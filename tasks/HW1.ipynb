{
 "cells": [
  {
   "cell_type": "markdown",
   "metadata": {},
   "source": [
    "# Введение"
   ]
  },
  {
   "cell_type": "markdown",
   "metadata": {},
   "source": [
    "## MAGIC – Major Atmospheric Gamma Imaging Cherenkov Telescope"
   ]
  },
  {
   "cell_type": "markdown",
   "metadata": {},
   "source": [
    "MAGIC (Major Atmospheric Gamma Imaging Cherenkov) - это система, состоящая из двух черенковских телескопов диаметром 17 м. Они предназначены для наблюдения гамма-лучей от галактических и внегалактических источников в диапазоне очень высоких энергий (от 30 ГэВ до 100 ТэВ). \n",
    "\n",
    "Телескопами MAGIC в настоящее время управляют около 165 астрофизиков из 24 организаций и консорциумов из 12 стран. MAGIC позволил открыть и исследовать новые классы источников гамма-излучения, таких как, например, пульсары и гамма-всплески (GRB).\n",
    "\n",
    "<center><img src=\"img/magic1.jpg\" width=\"1000\"></center>\n",
    "\n",
    "Источник: https://magic.mpp.mpg.de/\n",
    "\n",
    "Youtube video: https://youtu.be/mjcDSR2vSU8"
   ]
  },
  {
   "cell_type": "markdown",
   "metadata": {},
   "source": [
    "## Частицы из космоса"
   ]
  },
  {
   "cell_type": "markdown",
   "metadata": {},
   "source": [
    "Космические частицы, $\\gamma$-кванты (фотоны) и адроны (протоны), взаимодействуют с атмосферой и порождают ливни вторичных частиц. Двигаясь с околосветовой скоростью, эти частицы излучают Черенковское излучение. Телескопы фотографируют это излучение. По фотографиям можно определить тип частицы из космоса: фотон или протон.\n",
    "\n",
    "<center><img src=\"img/shower.jpg\" width=\"500\"></center>"
   ]
  },
  {
   "cell_type": "markdown",
   "metadata": {},
   "source": [
    "## Фотографии"
   ]
  },
  {
   "cell_type": "markdown",
   "metadata": {},
   "source": [
    "Задача атмосферного черенковского телескопа - получить изображение ливня путем измерения черенковского света от частиц ливня. Это изображение представляет собой геометрическую проекцию ливня на детектор. Для анализа этих изображений были введены параметры изображения или так называемые параметры Хилласа. Есть два вида параметров изображения: параметры формы и параметры ориентации. (Источник: http://ihp-lx.ethz.ch/Stamet/magic/parameters.html)\n",
    "\n",
    "<center><img src=\"img/geo.jpg\" width=\"400\"></center>"
   ]
  },
  {
   "cell_type": "markdown",
   "metadata": {},
   "source": [
    "## Фотоны vs адронов"
   ]
  },
  {
   "cell_type": "markdown",
   "metadata": {},
   "source": [
    "Изображения для $\\gamma$-квантов (фотонов) и адронов (протонов) отличаются по форме кластеров. Астрономы используют модели машинного обучения для классификации этих изображений. Для обучения моделей ученые искусственно генерируют такие изображения для каждого типа частиц с помощью сложных физических симуляторов.\n",
    "\n",
    "\n",
    "<center><img src=\"img/gamma_p.png\" width=\"600\"></center>"
   ]
  },
  {
   "cell_type": "markdown",
   "metadata": {},
   "source": [
    "## Ускорение симуляции"
   ]
  },
  {
   "cell_type": "markdown",
   "metadata": {},
   "source": [
    "Сложные физические симуляторы требуют больших вычислительных ресурсов. Они моделируют прилет частиц из космоса, их взаимодействие с атмосферой, рождение ливней, черенковского излучения и работы телескопов для получения изображений. Но мы можем использовать генеративно-состязательные сети для быстрой симуляции!"
   ]
  },
  {
   "cell_type": "code",
   "execution_count": 1,
   "metadata": {},
   "outputs": [],
   "source": [
    "%matplotlib inline\n",
    "import matplotlib.pyplot as plt\n",
    "import numpy as np\n",
    "import pandas as pd"
   ]
  },
  {
   "cell_type": "markdown",
   "metadata": {},
   "source": [
    "# Данные"
   ]
  },
  {
   "cell_type": "markdown",
   "metadata": {},
   "source": [
    "Будем использовать данные телескопа MAGIC из UCI репозитория https://archive.ics.uci.edu/ml/datasets/MAGIC+Gamma+Telescope. Каждый объект в данных - параметры одного изображения кластера и метка этого кластера (фотон или адрон):\n",
    "\n",
    "\n",
    "0. Length: major axis of ellipse [mm]\n",
    "1. Width: minor axis of ellipse [mm]\n",
    "2. Size: 10-log of sum of content of all pixels [in #phot]\n",
    "3. Conc: ratio of sum of two highest pixels over fSize [ratio]\n",
    "4. Conc1: ratio of highest pixel over fSize [ratio]\n",
    "5. Asym: distance from highest pixel to center, projected onto major axis [mm]\n",
    "6. M3Long: 3rd root of third moment along major axis [mm]\n",
    "7. M3Trans: 3rd root of third moment along minor axis [mm]\n",
    "8. Alpha: angle of major axis with vector to origin [deg]\n",
    "9. Dist: distance from origin to center of ellipse [mm]\n",
    "10. class: g,h # gamma (signal), hadron (background)"
   ]
  },
  {
   "cell_type": "code",
   "execution_count": 2,
   "metadata": {},
   "outputs": [
    {
     "data": {
      "text/html": [
       "<div>\n",
       "<style scoped>\n",
       "    .dataframe tbody tr th:only-of-type {\n",
       "        vertical-align: middle;\n",
       "    }\n",
       "\n",
       "    .dataframe tbody tr th {\n",
       "        vertical-align: top;\n",
       "    }\n",
       "\n",
       "    .dataframe thead th {\n",
       "        text-align: right;\n",
       "    }\n",
       "</style>\n",
       "<table border=\"1\" class=\"dataframe\">\n",
       "  <thead>\n",
       "    <tr style=\"text-align: right;\">\n",
       "      <th></th>\n",
       "      <th>Length</th>\n",
       "      <th>Width</th>\n",
       "      <th>Size</th>\n",
       "      <th>Conc</th>\n",
       "      <th>Conc1</th>\n",
       "      <th>Asym</th>\n",
       "      <th>M3Long</th>\n",
       "      <th>M3Trans</th>\n",
       "      <th>Alpha</th>\n",
       "      <th>Dist</th>\n",
       "      <th>class</th>\n",
       "    </tr>\n",
       "  </thead>\n",
       "  <tbody>\n",
       "    <tr>\n",
       "      <th>0</th>\n",
       "      <td>28.7967</td>\n",
       "      <td>16.0021</td>\n",
       "      <td>2.6449</td>\n",
       "      <td>0.3918</td>\n",
       "      <td>0.1982</td>\n",
       "      <td>27.7004</td>\n",
       "      <td>22.0110</td>\n",
       "      <td>-8.2027</td>\n",
       "      <td>40.0920</td>\n",
       "      <td>81.8828</td>\n",
       "      <td>g</td>\n",
       "    </tr>\n",
       "    <tr>\n",
       "      <th>1</th>\n",
       "      <td>31.6036</td>\n",
       "      <td>11.7235</td>\n",
       "      <td>2.5185</td>\n",
       "      <td>0.5303</td>\n",
       "      <td>0.3773</td>\n",
       "      <td>26.2722</td>\n",
       "      <td>23.8238</td>\n",
       "      <td>-9.9574</td>\n",
       "      <td>6.3609</td>\n",
       "      <td>205.2610</td>\n",
       "      <td>g</td>\n",
       "    </tr>\n",
       "    <tr>\n",
       "      <th>2</th>\n",
       "      <td>162.0520</td>\n",
       "      <td>136.0310</td>\n",
       "      <td>4.0612</td>\n",
       "      <td>0.0374</td>\n",
       "      <td>0.0187</td>\n",
       "      <td>116.7410</td>\n",
       "      <td>-64.8580</td>\n",
       "      <td>-45.2160</td>\n",
       "      <td>76.9600</td>\n",
       "      <td>256.7880</td>\n",
       "      <td>g</td>\n",
       "    </tr>\n",
       "    <tr>\n",
       "      <th>3</th>\n",
       "      <td>23.8172</td>\n",
       "      <td>9.5728</td>\n",
       "      <td>2.3385</td>\n",
       "      <td>0.6147</td>\n",
       "      <td>0.3922</td>\n",
       "      <td>27.2107</td>\n",
       "      <td>-6.4633</td>\n",
       "      <td>-7.1513</td>\n",
       "      <td>10.4490</td>\n",
       "      <td>116.7370</td>\n",
       "      <td>g</td>\n",
       "    </tr>\n",
       "    <tr>\n",
       "      <th>4</th>\n",
       "      <td>75.1362</td>\n",
       "      <td>30.9205</td>\n",
       "      <td>3.1611</td>\n",
       "      <td>0.3168</td>\n",
       "      <td>0.1832</td>\n",
       "      <td>-5.5277</td>\n",
       "      <td>28.5525</td>\n",
       "      <td>21.8393</td>\n",
       "      <td>4.6480</td>\n",
       "      <td>356.4620</td>\n",
       "      <td>g</td>\n",
       "    </tr>\n",
       "  </tbody>\n",
       "</table>\n",
       "</div>"
      ],
      "text/plain": [
       "     Length     Width    Size    Conc   Conc1      Asym   M3Long  M3Trans  \\\n",
       "0   28.7967   16.0021  2.6449  0.3918  0.1982   27.7004  22.0110  -8.2027   \n",
       "1   31.6036   11.7235  2.5185  0.5303  0.3773   26.2722  23.8238  -9.9574   \n",
       "2  162.0520  136.0310  4.0612  0.0374  0.0187  116.7410 -64.8580 -45.2160   \n",
       "3   23.8172    9.5728  2.3385  0.6147  0.3922   27.2107  -6.4633  -7.1513   \n",
       "4   75.1362   30.9205  3.1611  0.3168  0.1832   -5.5277  28.5525  21.8393   \n",
       "\n",
       "     Alpha      Dist class  \n",
       "0  40.0920   81.8828     g  \n",
       "1   6.3609  205.2610     g  \n",
       "2  76.9600  256.7880     g  \n",
       "3  10.4490  116.7370     g  \n",
       "4   4.6480  356.4620     g  "
      ]
     },
     "execution_count": 2,
     "metadata": {},
     "output_type": "execute_result"
    }
   ],
   "source": [
    "# read data\n",
    "names = np.array(['Length', 'Width', 'Size', 'Conc', 'Conc1', 'Asym', 'M3Long', 'M3Trans', 'Alpha', 'Dist', 'class'])\n",
    "data = pd.read_csv(\"data/magic04.data\", header=None)\n",
    "data.columns = names\n",
    "data.head()"
   ]
  },
  {
   "cell_type": "markdown",
   "metadata": {},
   "source": [
    "# Постановка задачи\n",
    "\n",
    "Ваша задача заключается в том, чтобы с помощью генеративно-состязательных сетей научится генерировать параметры кластеров на изображениях телекопа для каждого типа частиц (фотона или адрона):\n",
    "\n",
    "- $X$ - матрица реальных объектов, которые нужно начиться генерировать;\n",
    "- $y$ - метки классов, которые будем использовать как условие при генерации."
   ]
  },
  {
   "cell_type": "code",
   "execution_count": 3,
   "metadata": {},
   "outputs": [],
   "source": [
    "# параметры кластеров на изображениях\n",
    "X = data[names[:-1]].values\n",
    "X = np.abs(X)\n",
    "\n",
    "# метки классов\n",
    "labels = data[names[-1]].values\n",
    "y = np.ones((len(labels), 1))\n",
    "y[labels == 'h'] = 0"
   ]
  },
  {
   "cell_type": "code",
   "execution_count": 4,
   "metadata": {},
   "outputs": [
    {
     "data": {
      "text/plain": [
       "array([[2.87967e+01, 1.60021e+01, 2.64490e+00, 3.91800e-01, 1.98200e-01,\n",
       "        2.77004e+01, 2.20110e+01, 8.20270e+00, 4.00920e+01, 8.18828e+01],\n",
       "       [3.16036e+01, 1.17235e+01, 2.51850e+00, 5.30300e-01, 3.77300e-01,\n",
       "        2.62722e+01, 2.38238e+01, 9.95740e+00, 6.36090e+00, 2.05261e+02]])"
      ]
     },
     "execution_count": 4,
     "metadata": {},
     "output_type": "execute_result"
    }
   ],
   "source": [
    "# примеры\n",
    "X[:2]"
   ]
  },
  {
   "cell_type": "code",
   "execution_count": 5,
   "metadata": {},
   "outputs": [
    {
     "data": {
      "text/plain": [
       "array([[1.],\n",
       "       [1.],\n",
       "       [1.],\n",
       "       [1.],\n",
       "       [1.],\n",
       "       [1.],\n",
       "       [1.],\n",
       "       [1.],\n",
       "       [1.],\n",
       "       [1.]])"
      ]
     },
     "execution_count": 5,
     "metadata": {},
     "output_type": "execute_result"
    }
   ],
   "source": [
    "# примеры\n",
    "y[:10]"
   ]
  },
  {
   "cell_type": "markdown",
   "metadata": {},
   "source": [
    "# Визуализация данных"
   ]
  },
  {
   "cell_type": "markdown",
   "metadata": {},
   "source": [
    "Каждое изображение описывается 10 параметрами. Давайте построим распделения значений каждого параметра для каждого типа частиц."
   ]
  },
  {
   "cell_type": "code",
   "execution_count": 6,
   "metadata": {},
   "outputs": [],
   "source": [
    "def plot_hists(X1, X2, names, label1, label2, bins=np.linspace(-3, 3, 61)):\n",
    "    plt.figure(figsize=(4*4, 4*2))\n",
    "    for i in range(X1.shape[1]):\n",
    "        plt.subplot(3, 4, i+1)\n",
    "        plt.hist(X1[:, i], bins=bins, alpha=0.5, label=label1, color='C0')\n",
    "        plt.hist(X2[:, i], bins=bins, alpha=0.5, label=label2, color='C1')\n",
    "        plt.xlabel(names[i], size=14)\n",
    "        plt.legend(loc='best')\n",
    "    plt.tight_layout()"
   ]
  },
  {
   "cell_type": "code",
   "execution_count": 7,
   "metadata": {},
   "outputs": [
    {
     "data": {
      "image/png": "[encoded data removed]",
      "text/plain": [
       "<Figure size 1152x576 with 10 Axes>"
      ]
     },
     "metadata": {
      "needs_background": "light"
     },
     "output_type": "display_data"
    }
   ],
   "source": [
    "plot_hists(X[y[:, 0]==0], X[y[:, 0]==1], names, label1=\"Hadrons\", label2=\"Photons\", bins=50)"
   ]
  },
  {
   "cell_type": "markdown",
   "metadata": {},
   "source": [
    "# Предобработка данных"
   ]
  },
  {
   "cell_type": "markdown",
   "metadata": {},
   "source": [
    "Из графика видим, что распределения для многих признаков имеют тяжелые хвосты. Это делает обучение генеративных моделей тяжелее. Поэтому, нужно как-то преобразовать данные, чтобы убрать эти тяжелые хвосты. "
   ]
  },
  {
   "cell_type": "markdown",
   "metadata": {},
   "source": [
    "## Задание\n",
    "\n",
    "Используя функцию `sklearn.preprocessing.QuantileTransformer` трансформируйте входные данные `X`. Это преобразование делает так, чтобы распределение каждого параметра было нормальным. Описание функции доступно по ссылке http://scikit-learn.org/stable/modules/generated/sklearn.preprocessing.QuantileTransformer.html. Используйте значение параметра `output_distribution='normal'`. "
   ]
  },
  {
   "cell_type": "code",
   "execution_count": null,
   "metadata": {},
   "outputs": [],
   "source": [
    "### YOUR CODE IS HERE ######\n",
    "X_qt = ...\n",
    "### THE END OF YOUR CODE ###"
   ]
  },
  {
   "cell_type": "code",
   "execution_count": null,
   "metadata": {},
   "outputs": [],
   "source": [
    "plot_hists(X_qt[y[:, 0]==0], X_qt[y[:, 0]==1], names, label1=\"Hadrons\", label2=\"Photons\", bins=50)"
   ]
  },
  {
   "cell_type": "markdown",
   "metadata": {},
   "source": [
    "# Обучающая и тестовая выборки"
   ]
  },
  {
   "cell_type": "code",
   "execution_count": 8,
   "metadata": {},
   "outputs": [
    {
     "ename": "NameError",
     "evalue": "name 'X_qt' is not defined",
     "output_type": "error",
     "traceback": [
      "\u001b[0;31m---------------------------------------------------------------------------\u001b[0m",
      "\u001b[0;31mNameError\u001b[0m                                 Traceback (most recent call last)",
      "\u001b[0;32m<ipython-input-8-af0b02ae10dd>\u001b[0m in \u001b[0;36m<module>\u001b[0;34m\u001b[0m\n\u001b[1;32m      2\u001b[0m \u001b[0;34m\u001b[0m\u001b[0m\n\u001b[1;32m      3\u001b[0m \u001b[0;31m# train / test split\u001b[0m\u001b[0;34m\u001b[0m\u001b[0;34m\u001b[0m\u001b[0;34m\u001b[0m\u001b[0m\n\u001b[0;32m----> 4\u001b[0;31m \u001b[0mX_train\u001b[0m\u001b[0;34m,\u001b[0m \u001b[0mX_test\u001b[0m\u001b[0;34m,\u001b[0m \u001b[0my_train\u001b[0m\u001b[0;34m,\u001b[0m \u001b[0my_test\u001b[0m \u001b[0;34m=\u001b[0m \u001b[0mtrain_test_split\u001b[0m\u001b[0;34m(\u001b[0m\u001b[0mX_qt\u001b[0m\u001b[0;34m,\u001b[0m \u001b[0my\u001b[0m\u001b[0;34m,\u001b[0m \u001b[0mstratify\u001b[0m\u001b[0;34m=\u001b[0m\u001b[0my\u001b[0m\u001b[0;34m,\u001b[0m \u001b[0mtest_size\u001b[0m\u001b[0;34m=\u001b[0m\u001b[0;36m0.5\u001b[0m\u001b[0;34m,\u001b[0m \u001b[0mshuffle\u001b[0m\u001b[0;34m=\u001b[0m\u001b[0;32mTrue\u001b[0m\u001b[0;34m,\u001b[0m \u001b[0mrandom_state\u001b[0m\u001b[0;34m=\u001b[0m\u001b[0;36m11\u001b[0m\u001b[0;34m)\u001b[0m\u001b[0;34m\u001b[0m\u001b[0;34m\u001b[0m\u001b[0m\n\u001b[0m",
      "\u001b[0;31mNameError\u001b[0m: name 'X_qt' is not defined"
     ]
    }
   ],
   "source": [
    "from sklearn.model_selection import train_test_split\n",
    "\n",
    "# train / test split\n",
    "X_train, X_test, y_train, y_test = train_test_split(X_qt, y, stratify=y, test_size=0.5, shuffle=True, random_state=11)"
   ]
  },
  {
   "cell_type": "code",
   "execution_count": null,
   "metadata": {},
   "outputs": [],
   "source": [
    "plot_hists(X_train, X_test, names, label1=\"Train\", label2=\"Test\")"
   ]
  },
  {
   "cell_type": "markdown",
   "metadata": {},
   "source": [
    "# Conditional WGAN"
   ]
  },
  {
   "cell_type": "markdown",
   "metadata": {},
   "source": [
    "Мы будем использовать `Conditional WGAN`, который изображен на рисунке. В качестве условия `y` мы будем использовать метку класса: **0** - адрон, **1** - фотон. Таким образом, мы будем сообщать генератору для какой частицы нужно генерировать параметры изображения. \n",
    "\n",
    "<center><img src=\"img/cgan.png\" width=\"800\"></center>"
   ]
  },
  {
   "cell_type": "markdown",
   "metadata": {},
   "source": [
    "Генератор $\\hat{x} = G(z, y)$ будет принимать на вход шумовой вектор $z$ и вектор условий $y$, а выдавать будет сгенерированный (фейковый) вектор параметров $\\hat{x}$. \n",
    "\n",
    "Дискриминатор $D(x, y)$ будет принимать на вход вектор параметров $x$ и вектор условий $y$, а возвращать будет рациональное число.\n",
    "\n",
    "Обучать `Conditional WGAN` будем с такой функцией потерь:\n",
    "\n",
    "$$L(G, D) = -\\frac{1}{n} \\sum_{x_i \\in X, y_i \\in y} D(x_i, y_i) + -\\frac{1}{n} \\sum_{z_i \\in Z, y_i \\in y} D(G(z_i, y_i), y_i) \\to \\max_G \\min_D$$"
   ]
  },
  {
   "cell_type": "code",
   "execution_count": null,
   "metadata": {},
   "outputs": [],
   "source": [
    "import torch\n",
    "import torch.nn as nn\n",
    "import torch.nn.functional as F\n",
    "from torch.utils.data import TensorDataset, DataLoader\n",
    "from torch.autograd import Variable\n",
    "\n",
    "DEVICE = torch.device(\"cuda\" if torch.cuda.is_available() else \"cpu\")"
   ]
  },
  {
   "cell_type": "code",
   "execution_count": null,
   "metadata": {},
   "outputs": [],
   "source": [
    "DEVICE"
   ]
  },
  {
   "cell_type": "markdown",
   "metadata": {},
   "source": [
    "## Задание \n",
    "\n",
    "Реализуйте нейронную сеть для генератора со следующими слоями:\n",
    "- Полносвязный слой со 100 нейронами;\n",
    "- Слой батч-нормализации;\n",
    "- ReLU функцию активации;\n",
    "- Полносвязный слой со 100 нейронами;\n",
    "- Слой батч-нормализации;\n",
    "- ReLU функцию активации;\n",
    "- Выходной слой.\n",
    "\n",
    "Подсказка: используйте функцию `nn.Sequential()`."
   ]
  },
  {
   "cell_type": "code",
   "execution_count": null,
   "metadata": {},
   "outputs": [],
   "source": [
    "class Generator(nn.Module):\n",
    "    \n",
    "    def __init__(self, n_inputs, n_outputs):\n",
    "        super(Generator, self).__init__()\n",
    "        \n",
    "        ### YOUR CODE IS HERE ######\n",
    "        self.net = ...\n",
    "        ### THE END OF YOUR CODE ###\n",
    "\n",
    "    def forward(self, z, y):\n",
    "        zy = torch.cat((z, y), dim=1)\n",
    "        return self.net(zy)"
   ]
  },
  {
   "cell_type": "markdown",
   "metadata": {},
   "source": [
    "## Задание\n",
    "\n",
    "Реализуйте нейронную сеть для дискриминатора со следующими слоями:\n",
    "- Полносвязный слой со 100 нейронами;\n",
    "- ReLU функцию активации;\n",
    "- Полносвязный слой со 100 нейронами;\n",
    "- ReLU функцию активации;\n",
    "- Выходной слой.\n",
    "\n",
    "Подсказка: используйте функцию `nn.Sequential()`."
   ]
  },
  {
   "cell_type": "code",
   "execution_count": null,
   "metadata": {},
   "outputs": [],
   "source": [
    "class Discriminator(nn.Module):\n",
    "    \n",
    "    def __init__(self, n_inputs):\n",
    "        super(Discriminator, self).__init__()\n",
    "        \n",
    "        ### YOUR CODE IS HERE ######\n",
    "        self.net = ...\n",
    "        ### THE END OF YOUR CODE ###\n",
    "\n",
    "    def forward(self, x, y):\n",
    "        xy = torch.cat((x, y), dim=1)\n",
    "        return self.net(xy)"
   ]
  },
  {
   "cell_type": "markdown",
   "metadata": {},
   "source": [
    "## Задание \n",
    "\n",
    "Изучите класс для обучения GAN модели. \n",
    "Разберитесь, что делает каждая строчка кода. Данный класс вы сможете дорабатывать для своей модели для генерации картин, потому не пропускайте это задание."
   ]
  },
  {
   "cell_type": "code",
   "execution_count": null,
   "metadata": {},
   "outputs": [],
   "source": [
    "from tqdm import tqdm\n",
    "\n",
    "def generator_loss(generated_objects):\n",
    "    return torch.log(1 - generated_objects).mean()\n",
    "\n",
    "def discriminator_loss(generated_objects, real_objects):\n",
    "    return -torch.log(1 - generated_objects).mean() - torch.log(real_objects).mean()\n",
    "\n",
    "class Fitter(object):\n",
    "    \n",
    "    def __init__(self, generator, discriminator, batch_size=32, n_epochs=10, latent_dim=1, lr=0.0001, n_critic=5):\n",
    "        \n",
    "        self.generator = generator\n",
    "        self.discriminator = discriminator\n",
    "        \n",
    "        # Ограничиваю весов модели\n",
    "        for p in self.discriminator.parameters():\n",
    "            p = p.data.clamp_(-0.01, 0.01)\n",
    "\n",
    "        self.batch_size = batch_size\n",
    "        self.n_epochs = n_epochs\n",
    "        self.latent_dim = latent_dim\n",
    "        self.lr = lr\n",
    "        self.n_critic = n_critic\n",
    "        \n",
    "        self.opt_gen  = torch.optim.RMSprop(self.generator.parameters(), lr=self.lr)\n",
    "        self.opt_disc = torch.optim.RMSprop(self.discriminator.parameters(), lr=self.lr)\n",
    "        \n",
    "        self.generator.to(DEVICE)\n",
    "        self.discriminator.to(DEVICE)\n",
    "    \n",
    "    \n",
    "    def fit(self, X, y):\n",
    "        \n",
    "        X_real = torch.tensor(X, dtype=torch.float, device=DEVICE)\n",
    "        y_cond = torch.tensor(y, dtype=torch.float, device=DEVICE)\n",
    "        \n",
    "        dataset_real = TensorDataset(X_real, y_cond)\n",
    "        \n",
    "        self.generator.train(True)\n",
    "        self.discriminator.train(True)\n",
    "        \n",
    "        self.loss_history = []\n",
    "\n",
    "        for epoch in tqdm(range(self.n_epochs)):\n",
    "            for i, (real_batch, cond_batch) in enumerate(DataLoader(dataset_real, batch_size=self.batch_size, shuffle=True)):\n",
    "                \n",
    "                z = torch.from_numpy(np.random.randn(real_batch.shape[0], self.latent_dim)).to(DEVICE)\n",
    "                \n",
    "                generated_objects = self.generator(z.float(), cond_batch)\n",
    "                \n",
    "                real_objects_scores, gen_objects_scores = torch.split(self.discriminator(\n",
    "                    torch.cat([real_batch, generated_objects], dim=0), \n",
    "                    torch.cat([cond_batch, cond_batch], dim=0)), real_batch.shape[0])\n",
    "                \n",
    "                if i%self.n_critic == 0 and i!= 0:\n",
    "                    self.opt_gen.zero_grad()\n",
    "                    loss_val = generator_loss(gen_objects_scores)\n",
    "                    loss_val.backward()\n",
    "                    self.opt_gen.step()\n",
    "                else:\n",
    "                    self.opt_disc.zero_grad()\n",
    "                    loss_val = discriminator_loss(gen_objects_scores, real_objects_scores)\n",
    "                    loss_val.backward()\n",
    "                    self.opt_disc.step()\n",
    "                    \n",
    "            Z_noise = torch.normal(0, 1, (len(X_real), self.latent_dim))\n",
    "            X_fake = self.generator(Z_noise, y_cond)\n",
    "            loss_epoch = torch.mean(self.discriminator(X_real, y_cond)) - torch.mean(self.discriminator(X_fake, y_cond))\n",
    "            self.loss_history.append(loss_epoch.detach().cpu())\n",
    "                    \n",
    "        self.generator.train(False)\n",
    "        self.discriminator.train(False)"
   ]
  },
  {
   "cell_type": "markdown",
   "metadata": {},
   "source": [
    "## Обучение\n",
    "Обучим модель на данных."
   ]
  },
  {
   "cell_type": "code",
   "execution_count": null,
   "metadata": {},
   "outputs": [],
   "source": [
    "%%time\n",
    "latent_dim = 10\n",
    "generator     = Generator(n_inputs=latent_dim+y.shape[1], \n",
    "                          n_outputs=X_train.shape[1])\n",
    "discriminator = Discriminator(n_inputs=X_train.shape[1]+y.shape[1])\n",
    "\n",
    "fitter = Fitter(generator, discriminator, batch_size=50, n_epochs=100, latent_dim=latent_dim, lr=0.0001, n_critic=5)\n",
    "fitter.fit(X_train, y_train)"
   ]
  },
  {
   "cell_type": "code",
   "execution_count": null,
   "metadata": {},
   "outputs": [],
   "source": [
    "# WGAN learning curve\n",
    "plt.figure(figsize=(9, 5))\n",
    "plt.plot(fitter.loss_history)\n",
    "plt.xlabel(\"Epoch Number\", size=14)\n",
    "plt.ylabel(\"Loss Function\", size=14)\n",
    "plt.xticks(size=14)\n",
    "plt.yticks(size=14)\n",
    "plt.title(\"Conditional WGAN Learning Curve\", size=14)\n",
    "plt.grid(b=1, linestyle='--', linewidth=0.5, color='0.5')\n",
    "plt.show()"
   ]
  },
  {
   "cell_type": "markdown",
   "metadata": {},
   "source": [
    "## Задание \n",
    "\n",
    "Реализуйте функцию для генерации новый объектов $X$ по вектору условий $y$."
   ]
  },
  {
   "cell_type": "code",
   "execution_count": null,
   "metadata": {},
   "outputs": [],
   "source": [
    "def generate(generator, y, latent_dim):\n",
    "    ### YOUR CODE IS HERE ######\n",
    "    X_fake = ...\n",
    "    ### THE END OF YOUR CODE ###\n",
    "    return X_fake # numpy"
   ]
  },
  {
   "cell_type": "markdown",
   "metadata": {},
   "source": [
    "Теперь сгенерируем фейковые матрицы `X_fake_train` и `X_fake_test`. Сравним их с матрицами реальных объектов `X_train` и `X_test`"
   ]
  },
  {
   "cell_type": "code",
   "execution_count": null,
   "metadata": {},
   "outputs": [],
   "source": [
    "X_fake_train = generate(fitter.generator, y_train, latent_dim)"
   ]
  },
  {
   "cell_type": "code",
   "execution_count": null,
   "metadata": {},
   "outputs": [],
   "source": [
    "plot_hists(X_train, X_fake_train, names, label1=\"Real\", label2=\"Fake\", bins=50)"
   ]
  },
  {
   "cell_type": "code",
   "execution_count": null,
   "metadata": {},
   "outputs": [],
   "source": [
    "X_fake_test = generate(fitter.generator, y_test, latent_dim)"
   ]
  },
  {
   "cell_type": "code",
   "execution_count": null,
   "metadata": {},
   "outputs": [],
   "source": [
    "plot_hists(X_test, X_fake_test, names, label1=\"Real\", label2=\"Fake\", bins=50)"
   ]
  },
  {
   "cell_type": "markdown",
   "metadata": {},
   "source": [
    "## Вывод 1: \n",
    "Визуально мы видим сходство реальных и фейковых данных. Однако это только проекции 10-мерных объектов на одну ось."
   ]
  },
  {
   "cell_type": "markdown",
   "metadata": {},
   "source": [
    "# Измерение качества генерации\n",
    "\n",
    "<center><img src=\"img/clf.png\" width=\"600\"></center>\n",
    "\n",
    "Измерим сходство распределений классификатором."
   ]
  },
  {
   "cell_type": "code",
   "execution_count": null,
   "metadata": {},
   "outputs": [],
   "source": [
    "# собираем реальный и фейковые матрицы в одну\n",
    "XX_train = np.concatenate((X_fake_train, X_train), axis=0)\n",
    "XX_test = np.concatenate((X_fake_test, X_test), axis=0)\n",
    "\n",
    "yy_train = np.array([0]*len(X_fake_train) + [1]*len(X_train))\n",
    "yy_test = np.array([0]*len(X_fake_test) + [1]*len(X_test))"
   ]
  },
  {
   "cell_type": "code",
   "execution_count": null,
   "metadata": {},
   "outputs": [],
   "source": [
    "from sklearn.ensemble import GradientBoostingClassifier\n",
    "\n",
    "# обучаем классификатор\n",
    "clf = GradientBoostingClassifier()\n",
    "clf.fit(XX_train, yy_train)\n",
    "\n",
    "# получаем прогнозы\n",
    "yy_test_proba = clf.predict_proba(XX_test)[:, 1]"
   ]
  },
  {
   "cell_type": "code",
   "execution_count": null,
   "metadata": {},
   "outputs": [],
   "source": [
    "from sklearn.metrics import roc_auc_score\n",
    "\n",
    "auc = roc_auc_score(yy_test, yy_test_proba)\n",
    "print(\"ROC AUC = \", auc)"
   ]
  },
  {
   "cell_type": "markdown",
   "metadata": {},
   "source": [
    "## Вывод 2\n",
    "\n",
    "Идеальное значение ROC AUC равно 0.5. Это соответствует случаю, когда классификатор не может разделить реальные и фейковые данные. В нашем случае ROC AUC около 0.7, что говорит о том, что есть куда улучшать качество генеративной модели :)\n",
    "\n",
    "Подумайте, что можно было бы изменить для улучшения результатов?"
   ]
  }
 ],
 "metadata": {
  "kernelspec": {
   "display_name": "Python 3",
   "language": "python",
   "name": "python3"
  },
  "language_info": {
   "codemirror_mode": {
    "name": "ipython",
    "version": 3
   },
   "file_extension": ".py",
   "mimetype": "text/x-python",
   "name": "python",
   "nbconvert_exporter": "python",
   "pygments_lexer": "ipython3",
   "version": "3.8.10"
  },
  "toc": {
   "base_numbering": 1,
   "nav_menu": {},
   "number_sections": true,
   "sideBar": true,
   "skip_h1_title": false,
   "title_cell": "Table of Contents",
   "title_sidebar": "Contents",
   "toc_cell": false,
   "toc_position": {},
   "toc_section_display": true,
   "toc_window_display": false
  }
 },
 "nbformat": 4,
 "nbformat_minor": 4
}
