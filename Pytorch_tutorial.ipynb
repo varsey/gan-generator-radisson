{
 "cells": [
  {
   "cell_type": "markdown",
   "metadata": {
    "pycharm": {
     "name": "#%% md\n"
    }
   },
   "source": [
    "# Pytorch, что это такое и почему это удобно?"
   ]
  },
  {
   "cell_type": "markdown",
   "metadata": {
    "pycharm": {
     "name": "#%% md\n"
    }
   },
   "source": [
    "### В этой тетрадке лежат примеры работы с библиотекой pytorch. Для начала импортируем необходимые нам библиотеки."
   ]
  },
  {
   "cell_type": "code",
   "execution_count": 33,
   "metadata": {
    "pycharm": {
     "name": "#%%\n"
    }
   },
   "outputs": [],
   "source": [
    "import torch # корневая библиотека\n",
    "from torch import nn # библиотека для работы с нейронной сетью\n",
    "import numpy as np"
   ]
  },
  {
   "cell_type": "markdown",
   "metadata": {
    "pycharm": {
     "name": "#%% md\n"
    }
   },
   "source": [
    "### Создадим тензор из случайных чисел"
   ]
  },
  {
   "cell_type": "code",
   "execution_count": 34,
   "metadata": {
    "pycharm": {
     "name": "#%%\n"
    }
   },
   "outputs": [
    {
     "name": "stdout",
     "output_type": "stream",
     "text": [
      "tensor([[0.5514, 0.7541, 0.5416],\n",
      "        [0.9567, 0.8081, 0.8082],\n",
      "        [0.5377, 0.0822, 0.6788],\n",
      "        [0.2371, 0.1479, 0.1268],\n",
      "        [0.7232, 0.8886, 0.5068]])\n",
      "\n",
      "torch.Size([5, 3])\n",
      "\n",
      "tensor([[[0.8299, 0.5835],\n",
      "         [0.1662, 0.5416],\n",
      "         [0.5501, 0.0864]],\n",
      "\n",
      "        [[0.7668, 0.3552],\n",
      "         [0.9189, 0.3680],\n",
      "         [0.7649, 0.0595]],\n",
      "\n",
      "        [[0.9272, 0.1870],\n",
      "         [0.7438, 0.4530],\n",
      "         [0.8644, 0.6624]],\n",
      "\n",
      "        [[0.2740, 0.9959],\n",
      "         [0.8423, 0.7751],\n",
      "         [0.8324, 0.2864]],\n",
      "\n",
      "        [[0.8214, 0.6231],\n",
      "         [0.1970, 0.9864],\n",
      "         [0.1554, 0.3684]]])\n",
      "\n",
      "torch.Size([5, 3, 2])\n"
     ]
    }
   ],
   "source": [
    "x = torch.rand(5, 3) # передаем размеры тензора\n",
    "print(x) # содержимое тензора\n",
    "print()\n",
    "print(x.shape) # выведем на экран размеры тензора\n",
    "x = torch.rand(5,3,2)\n",
    "print()\n",
    "print(x) # содержимое тензора\n",
    "print()\n",
    "print(x.shape) # выведем на экран размеры тензора"
   ]
  },
  {
   "cell_type": "markdown",
   "metadata": {
    "pycharm": {
     "name": "#%% md\n"
    }
   },
   "source": [
    "Зачастую, при работе с  картинками, мы работам с трехмерными тензорами. Их размености имеют вид (число каналов, высота, ширина). При обучении мы также добавляем еще размерность размера батча, получается (размер батча, число каналов, высота, ширина). Чаще всего в изображениях 3 канала."
   ]
  },
  {
   "cell_type": "markdown",
   "metadata": {
    "pycharm": {
     "name": "#%% md\n"
    }
   },
   "source": [
    "### Посмотрим на базовые операции с тензорами в Pytorch. Спойлер - они такие же, как и в numpy :)"
   ]
  },
  {
   "cell_type": "code",
   "execution_count": 35,
   "metadata": {
    "pycharm": {
     "name": "#%%\n"
    }
   },
   "outputs": [],
   "source": [
    "x = torch.rand(5, 3) # создали матрицу\n",
    "y = torch.rand(5, 3) # создали еще одну матрицу"
   ]
  },
  {
   "cell_type": "code",
   "execution_count": 36,
   "metadata": {
    "pycharm": {
     "name": "#%%\n"
    }
   },
   "outputs": [
    {
     "name": "stdout",
     "output_type": "stream",
     "text": [
      "tensor([[0.6880, 0.6255, 0.9678],\n",
      "        [0.7534, 0.5214, 0.5582],\n",
      "        [0.5406, 0.4737, 0.6417],\n",
      "        [0.5414, 0.3991, 0.6679],\n",
      "        [0.6909, 0.6236, 0.5681]])\n",
      "\n",
      "tensor([[0.4033, 0.7966, 0.6109],\n",
      "        [0.1041, 0.9199, 0.0078],\n",
      "        [0.8810, 0.9331, 0.2021],\n",
      "        [0.0660, 0.5068, 0.4130],\n",
      "        [0.7891, 0.4109, 0.6786]])\n",
      "\n",
      "tensor([[1.0913, 1.4221, 1.5787],\n",
      "        [0.8575, 1.4413, 0.5660],\n",
      "        [1.4216, 1.4068, 0.8438],\n",
      "        [0.6074, 0.9059, 1.0809],\n",
      "        [1.4800, 1.0345, 1.2467]])\n",
      "\n",
      "tensor([[ 0.2847, -0.1712,  0.3569],\n",
      "        [ 0.6492, -0.3985,  0.5504],\n",
      "        [-0.3405, -0.4594,  0.4395],\n",
      "        [ 0.4753, -0.1077,  0.2549],\n",
      "        [-0.0983,  0.2127, -0.1105]])\n",
      "\n",
      "tensor([[0.2775, 0.4983, 0.5912],\n",
      "        [0.0785, 0.4796, 0.0043],\n",
      "        [0.4763, 0.4420, 0.1297],\n",
      "        [0.0358, 0.2023, 0.2758],\n",
      "        [0.5452, 0.2562, 0.3855]])\n",
      "\n",
      "tensor([[ 1.7060,  0.7851,  1.5843],\n",
      "        [ 7.2339,  0.5668, 71.7559],\n",
      "        [ 0.6136,  0.5076,  3.1746],\n",
      "        [ 8.1971,  0.7875,  1.6173],\n",
      "        [ 0.8755,  1.5176,  0.8371]])\n",
      "\n"
     ]
    }
   ],
   "source": [
    "print(x, end = '\\n\\n')\n",
    "print(y, end = '\\n\\n')\n",
    "print(x+y, end = '\\n\\n') # простое поэлементное сложение\n",
    "print(x-y, end = '\\n\\n') # аналогично поэлементное вычитание\n",
    "print(x*y, end = '\\n\\n') # как вы уже догадались, поэлементное сложение\n",
    "print(x/y, end = '\\n\\n') # не надо иметь три высших образования, чтобы понять, что это поэлементное деление"
   ]
  },
  {
   "cell_type": "markdown",
   "metadata": {
    "pycharm": {
     "name": "#%% md\n"
    }
   },
   "source": [
    "### Аналогично базовые операции можно проводить и числами"
   ]
  },
  {
   "cell_type": "code",
   "execution_count": 37,
   "metadata": {
    "pycharm": {
     "name": "#%%\n"
    }
   },
   "outputs": [
    {
     "name": "stdout",
     "output_type": "stream",
     "text": [
      "tensor([[5.6880, 5.6255, 5.9678],\n",
      "        [5.7534, 5.5214, 5.5582],\n",
      "        [5.5406, 5.4737, 5.6417],\n",
      "        [5.5414, 5.3991, 5.6679],\n",
      "        [5.6909, 5.6236, 5.5681]])\n",
      "\n",
      "tensor([[-4.3120, -4.3745, -4.0322],\n",
      "        [-4.2466, -4.4786, -4.4418],\n",
      "        [-4.4594, -4.5263, -4.3583],\n",
      "        [-4.4586, -4.6009, -4.3321],\n",
      "        [-4.3091, -4.3764, -4.4319]])\n",
      "\n",
      "tensor([[3.4402, 3.1273, 4.8390],\n",
      "        [3.7669, 2.6071, 2.7910],\n",
      "        [2.7030, 2.3683, 3.2083],\n",
      "        [2.7069, 1.9956, 3.3395],\n",
      "        [3.4543, 3.1179, 2.8404]])\n",
      "\n",
      "tensor([[0.1376, 0.1251, 0.1936],\n",
      "        [0.1507, 0.1043, 0.1116],\n",
      "        [0.1081, 0.0947, 0.1283],\n",
      "        [0.1083, 0.0798, 0.1336],\n",
      "        [0.1382, 0.1247, 0.1136]])\n",
      "\n"
     ]
    }
   ],
   "source": [
    "print(x+5, end = '\\n\\n')\n",
    "print(x-5, end = '\\n\\n')\n",
    "print(x*5, end = '\\n\\n')\n",
    "print(x/5, end = '\\n\\n') # все аналогично прошлому пункту"
   ]
  },
  {
   "cell_type": "markdown",
   "metadata": {
    "pycharm": {
     "name": "#%% md\n"
    }
   },
   "source": [
    "### Немного про матричное умножение и операции над тензорами"
   ]
  },
  {
   "cell_type": "code",
   "execution_count": 38,
   "metadata": {
    "pycharm": {
     "name": "#%%\n"
    }
   },
   "outputs": [
    {
     "name": "stdout",
     "output_type": "stream",
     "text": [
      "X*X^T  :\n",
      "tensor([[1.8012, 1.3847, 1.2892, 1.2685, 1.4152],\n",
      "        [1.3847, 1.1510, 1.0124, 0.9888, 1.1627],\n",
      "        [1.2892, 1.0124, 0.9283, 0.9103, 1.0333],\n",
      "        [1.2685, 0.9888, 0.9103, 0.8985, 1.0023],\n",
      "        [1.4152, 1.1627, 1.0333, 1.0023, 1.1889]])\n",
      "\n"
     ]
    }
   ],
   "source": [
    "print(\"X*X^T  :\\n%s\\n\" % (x@x.T)) # можно и так"
   ]
  },
  {
   "cell_type": "code",
   "execution_count": 39,
   "metadata": {
    "pycharm": {
     "name": "#%%\n"
    }
   },
   "outputs": [
    {
     "name": "stdout",
     "output_type": "stream",
     "text": [
      "X*X^T  :\n",
      "tensor([[1.8012, 1.3847, 1.2892, 1.2685, 1.4152],\n",
      "        [1.3847, 1.1510, 1.0124, 0.9888, 1.1627],\n",
      "        [1.2892, 1.0124, 0.9283, 0.9103, 1.0333],\n",
      "        [1.2685, 0.9888, 0.9103, 0.8985, 1.0023],\n",
      "        [1.4152, 1.1627, 1.0333, 1.0023, 1.1889]])\n",
      "\n"
     ]
    }
   ],
   "source": [
    "print(\"X*X^T  :\\n%s\\n\" % (torch.matmul(x, x.transpose(1, 0)))) # а можно так. \n",
    "# Операция transpose очень полезна, если вам надо поменять оси в тензоре местами"
   ]
  },
  {
   "cell_type": "code",
   "execution_count": 40,
   "metadata": {
    "pycharm": {
     "name": "#%%\n"
    }
   },
   "outputs": [
    {
     "name": "stdout",
     "output_type": "stream",
     "text": [
      "Среднее по колонкам :\n",
      "tensor([0.7604, 0.6110, 0.5520, 0.5361, 0.6275])\n",
      "\n",
      "Или по строкам :\n",
      "tensor([0.6428, 0.5286, 0.6807])\n",
      "\n",
      "Изменили размеры :\n",
      "torch.Size([3, 5])\n",
      "\n",
      "Теперь это среднее по строкам :\n",
      "tensor([0.7604, 0.6110, 0.5520, 0.5361, 0.6275])\n",
      "\n",
      "А это по столбцам :\n",
      "tensor([0.6428, 0.5286, 0.6807])\n",
      "\n"
     ]
    }
   ],
   "source": [
    "print(\"Среднее по колонкам :\\n%s\\n\" % (x.mean(dim=1)))\n",
    "print(\"Или по строкам :\\n%s\\n\" % (x.mean(dim=0)))\n",
    "print(\"Изменили размеры :\\n%s\\n\" % (x.view([3, 5]).shape,))\n",
    "print(\"Теперь это среднее по строкам :\\n%s\\n\" % (x.mean(dim=1)))\n",
    "print(\"А это по столбцам :\\n%s\\n\" % (x.mean(dim=0)))"
   ]
  },
  {
   "cell_type": "markdown",
   "metadata": {
    "pycharm": {
     "name": "#%% md\n"
    }
   },
   "source": [
    "### Какие еще есть матрицы в pytorch"
   ]
  },
  {
   "cell_type": "code",
   "execution_count": 43,
   "metadata": {
    "pycharm": {
     "name": "#%%\n"
    }
   },
   "outputs": [
    {
     "name": "stdout",
     "output_type": "stream",
     "text": [
      "tensor([[ 0.0000e+00, -3.6893e+19,  0.0000e+00],\n",
      "        [-3.6893e+19,  1.2612e-44,  0.0000e+00],\n",
      "        [ 0.0000e+00,  0.0000e+00,  0.0000e+00],\n",
      "        [ 0.0000e+00,  0.0000e+00,  0.0000e+00],\n",
      "        [ 0.0000e+00,  0.0000e+00,  0.0000e+00]])\n"
     ]
    }
   ],
   "source": [
    "x = torch.empty(5, 3) # пустой тензор\n",
    "print(x) # как видите, не везде стоят чистые нули"
   ]
  },
  {
   "cell_type": "code",
   "execution_count": 44,
   "metadata": {
    "pycharm": {
     "name": "#%%\n"
    }
   },
   "outputs": [
    {
     "name": "stdout",
     "output_type": "stream",
     "text": [
      "tensor([[0, 0, 0],\n",
      "        [0, 0, 0],\n",
      "        [0, 0, 0],\n",
      "        [0, 0, 0],\n",
      "        [0, 0, 0]])\n"
     ]
    }
   ],
   "source": [
    "x = torch.zeros(5, 3, dtype=torch.long) # тензор с нулями и указанием типов чисел\n",
    "print(x)"
   ]
  },
  {
   "cell_type": "code",
   "execution_count": 45,
   "metadata": {
    "pycharm": {
     "name": "#%%\n"
    }
   },
   "outputs": [
    {
     "name": "stdout",
     "output_type": "stream",
     "text": [
      "tensor([5.5000, 3.0000])\n"
     ]
    }
   ],
   "source": [
    "x = torch.tensor([5.5, 3]) # конструируем тензор из питоновского листа\n",
    "print(x)"
   ]
  },
  {
   "cell_type": "code",
   "execution_count": 49,
   "metadata": {
    "pycharm": {
     "name": "#%%\n"
    }
   },
   "outputs": [
    {
     "name": "stdout",
     "output_type": "stream",
     "text": [
      "tensor([[1., 1., 1.],\n",
      "        [1., 1., 1.],\n",
      "        [1., 1., 1.],\n",
      "        [1., 1., 1.],\n",
      "        [1., 1., 1.]], dtype=torch.float64)\n"
     ]
    }
   ],
   "source": [
    "x = torch.ones(5, 3, dtype=torch.double) # тензор с единицами и указанием типов чисел\n",
    "print(x)"
   ]
  },
  {
   "cell_type": "code",
   "execution_count": 50,
   "metadata": {
    "pycharm": {
     "name": "#%%\n"
    }
   },
   "outputs": [
    {
     "name": "stdout",
     "output_type": "stream",
     "text": [
      "torch.Size([1, 5, 3])\n"
     ]
    }
   ],
   "source": [
    "print(x.unsqueeze(0).shape) # добавили измерение в начало, аналог броадкастинга"
   ]
  },
  {
   "cell_type": "code",
   "execution_count": 51,
   "metadata": {
    "pycharm": {
     "name": "#%%\n"
    }
   },
   "outputs": [
    {
     "name": "stdout",
     "output_type": "stream",
     "text": [
      "torch.Size([5, 3])\n"
     ]
    }
   ],
   "source": [
    "print(x.unsqueeze(0).squeeze(0).shape) # убрали измерение в начале, аналог броадкастинга"
   ]
  },
  {
   "cell_type": "markdown",
   "metadata": {
    "pycharm": {
     "name": "#%% md\n"
    }
   },
   "source": [
    "### Тензор можно вернуть в numpy"
   ]
  },
  {
   "cell_type": "code",
   "execution_count": 52,
   "metadata": {
    "pycharm": {
     "name": "#%%\n"
    }
   },
   "outputs": [
    {
     "data": {
      "text/plain": [
       "array([[1., 1., 1.],\n",
       "       [1., 1., 1.],\n",
       "       [1., 1., 1.],\n",
       "       [1., 1., 1.],\n",
       "       [1., 1., 1.]])"
      ]
     },
     "execution_count": 52,
     "metadata": {},
     "output_type": "execute_result"
    }
   ],
   "source": [
    "x.numpy()"
   ]
  },
  {
   "cell_type": "markdown",
   "metadata": {
    "pycharm": {
     "name": "#%% md\n"
    }
   },
   "source": [
    "### А можно из numpy в pytorch"
   ]
  },
  {
   "cell_type": "code",
   "execution_count": 53,
   "metadata": {
    "pycharm": {
     "name": "#%%\n"
    }
   },
   "outputs": [
    {
     "data": {
      "text/plain": [
       "tensor([[1., 1., 1.],\n",
       "        [1., 1., 1.],\n",
       "        [1., 1., 1.],\n",
       "        [1., 1., 1.],\n",
       "        [1., 1., 1.]], dtype=torch.float64)"
      ]
     },
     "execution_count": 53,
     "metadata": {},
     "output_type": "execute_result"
    }
   ],
   "source": [
    "torch.from_numpy(x.numpy())"
   ]
  },
  {
   "cell_type": "markdown",
   "metadata": {
    "pycharm": {
     "name": "#%% md\n"
    }
   },
   "source": [
    "### Как в Pytorch работать с данными"
   ]
  },
  {
   "cell_type": "markdown",
   "metadata": {
    "pycharm": {
     "name": "#%% md\n"
    }
   },
   "source": [
    "В pytorch вы можете сами положить свои данные в класс Dataset, чтобы потом по нему итерироваться при обучении. Для этого требуется создать класс-наследник от Dataset и переопределить три метода:\n",
    "\n",
    "__init__ - конструктор класса\n",
    "\n",
    "__getitem__ - метод для выбора элемента по индексу \n",
    "\n",
    "__len__ - метод, который вызывает функция len при применении к объекту класса. Хранит в себе инфорамацию о размере датасета."
   ]
  },
  {
   "cell_type": "code",
   "execution_count": 88,
   "metadata": {
    "pycharm": {
     "name": "#%%\n"
    }
   },
   "outputs": [],
   "source": [
    "class RandomDataset(torch.utils.data.Dataset):\n",
    "    \"\"\"Our random dataset\"\"\"\n",
    "    \n",
    "    def __init__(self, x, y):\n",
    "        # данные можно хранить в полях класса, можно хранить пути к файлам, а можно считывать из файла\n",
    "        # в нашем случае, мы воспользовались первым вариантом\n",
    "        self.x=x\n",
    "        self.y=y\n",
    "        \n",
    "    def __len__(self):\n",
    "        # кол-во элементов в нашем датасете\n",
    "        return len(self.x)\n",
    "    \n",
    "    def __getitem__(self, idx):\n",
    "        # возвращаем объект и его метку\n",
    "        return torch.tensor(self.x[idx, :], dtype=torch.float), torch.Tensor([self.y[idx]])"
   ]
  },
  {
   "cell_type": "markdown",
   "metadata": {
    "pycharm": {
     "name": "#%% md\n"
    }
   },
   "source": [
    "Создадим игрушечный датасет и посмотрим, как это работает."
   ]
  },
  {
   "cell_type": "code",
   "execution_count": 89,
   "metadata": {
    "pycharm": {
     "name": "#%%\n"
    }
   },
   "outputs": [],
   "source": [
    "x = np.random.rand(1000, 5)\n",
    "y = np.random.rand(1000)\n",
    "\n",
    "dataset = RandomDataset(x, y)"
   ]
  },
  {
   "cell_type": "code",
   "execution_count": 90,
   "metadata": {
    "pycharm": {
     "name": "#%%\n"
    }
   },
   "outputs": [
    {
     "data": {
      "text/plain": [
       "(tensor([0.6344, 0.5570, 0.8835, 0.4639, 0.9670]), tensor([0.9626]))"
      ]
     },
     "execution_count": 90,
     "metadata": {},
     "output_type": "execute_result"
    }
   ],
   "source": [
    "dataset[5]"
   ]
  },
  {
   "cell_type": "code",
   "execution_count": 91,
   "metadata": {
    "pycharm": {
     "name": "#%%\n"
    }
   },
   "outputs": [
    {
     "data": {
      "text/plain": [
       "1000"
      ]
     },
     "execution_count": 91,
     "metadata": {},
     "output_type": "execute_result"
    }
   ],
   "source": [
    "len(dataset)"
   ]
  },
  {
   "cell_type": "markdown",
   "metadata": {
    "pycharm": {
     "name": "#%% md\n"
    }
   },
   "source": [
    "Для того, чтобы из данных получать батчи в pytorch используется такая сущность как даталоадер, который принимает на вход класс унаследованный от torch.utils.data.Dataset. Сейчас посмотрим на пример:"
   ]
  },
  {
   "cell_type": "code",
   "execution_count": 92,
   "metadata": {
    "pycharm": {
     "name": "#%%\n"
    }
   },
   "outputs": [],
   "source": [
    "dataloader = torch.utils.data.DataLoader(dataset, batch_size=4)"
   ]
  },
  {
   "cell_type": "code",
   "execution_count": 96,
   "metadata": {
    "pycharm": {
     "name": "#%%\n"
    }
   },
   "outputs": [
    {
     "name": "stdout",
     "output_type": "stream",
     "text": [
      "tensor([[0.6351, 0.6254, 0.7428, 0.6986, 0.3789],\n",
      "        [0.0055, 0.5466, 0.7622, 0.7659, 0.1515],\n",
      "        [0.6448, 0.3785, 0.1574, 0.0552, 0.6291],\n",
      "        [0.9667, 0.0413, 0.7778, 0.1618, 0.2848]])\n",
      "\n",
      "tensor([[0.1963],\n",
      "        [0.6494],\n",
      "        [0.6065],\n",
      "        [0.4489]])\n"
     ]
    }
   ],
   "source": [
    "x, y = None, None\n",
    "for batch in dataloader:\n",
    "    x = batch[0]\n",
    "    y = batch[1]\n",
    "print(x)\n",
    "print()\n",
    "print(y)"
   ]
  },
  {
   "cell_type": "markdown",
   "metadata": {
    "pycharm": {
     "name": "#%% md\n"
    }
   },
   "source": [
    "В проекте по генерации картин вы будете использовать готовый ImageDataset, в него просто будете передавать путь к папке, где лежат картины. Но полезно знать устройство датасета. В дальнейшем вы сможете обучать свои модели на своих датасетах."
   ]
  },
  {
   "cell_type": "markdown",
   "metadata": {
    "pycharm": {
     "name": "#%% md\n"
    }
   },
   "source": [
    "### Нейронная сеть"
   ]
  },
  {
   "cell_type": "markdown",
   "metadata": {
    "pycharm": {
     "name": "#%% md\n"
    }
   },
   "source": [
    "Нейронные сети в Pytorch можно собирать разными спопобами. Можно делать как в tensorflow и Keras."
   ]
  },
  {
   "cell_type": "code",
   "execution_count": 98,
   "metadata": {
    "pycharm": {
     "name": "#%%\n"
    }
   },
   "outputs": [],
   "source": [
    "model = nn.Sequential() # создаем пустую модель, в которую будем добавлять слои\n",
    "model.add_module('l1', nn.Linear(5, 3)) # добавили слой с 5-ю нейронами на вход и 3-мя на выход\n",
    "model.add_module('l2', nn.ReLU()) # добавили функцию активации\n",
    "model.add_module('l3', nn.Linear(3, 1)) # добавили слой с 3-мя нейронами на вход и 5-ю на выход"
   ]
  },
  {
   "cell_type": "code",
   "execution_count": 101,
   "metadata": {
    "pycharm": {
     "name": "#%%\n"
    }
   },
   "outputs": [
    {
     "data": {
      "text/plain": [
       "tensor([[0.4538],\n",
       "        [0.3799],\n",
       "        [0.4934],\n",
       "        [0.4321],\n",
       "        [0.4769],\n",
       "        [0.4617],\n",
       "        [0.5248],\n",
       "        [0.4225],\n",
       "        [0.4704],\n",
       "        [0.4852]], grad_fn=<AddmmBackward>)"
      ]
     },
     "execution_count": 101,
     "metadata": {},
     "output_type": "execute_result"
    }
   ],
   "source": [
    "y_pred = model(torch.rand(10, 5)) # получили предсказания модели на десяти объектах\n",
    "y_pred"
   ]
  },
  {
   "cell_type": "markdown",
   "metadata": {
    "pycharm": {
     "name": "#%% md\n"
    }
   },
   "source": [
    "Но, чтобы создать сеть с нуля, сделать ее более гибкой, например, с двуми входами или с несколькими выходами, нужно использовать класс Module. Давайте посмотрим, как это делается."
   ]
  },
  {
   "cell_type": "code",
   "execution_count": 102,
   "metadata": {
    "pycharm": {
     "name": "#%%\n"
    }
   },
   "outputs": [],
   "source": [
    "class Model(nn.Module):\n",
    "    def __init__(self):\n",
    "        super(Model, self).__init__() # данная строка кода вызывает конструктор родительского класса\n",
    "        self.lin1 = nn.Linear(5, 3) # добавили слой с 5-ю нейронами на вход и 3-мя на выход\n",
    "        self.lin2 = nn.Linear(3, 1) # добавили слой с 3-мя нейронами на вход и 5-ю на выход\n",
    "        self.relu = nn.ReLU() # добавили функцию активации\n",
    "\n",
    "    def forward(self, x):\n",
    "        x = self.lin1(x)\n",
    "        x = self.relu(x)\n",
    "        x = self.lin2(x)\n",
    "        return x"
   ]
  },
  {
   "cell_type": "markdown",
   "metadata": {
    "pycharm": {
     "name": "#%% md\n"
    }
   },
   "source": [
    "Написанная нами модель идентична той, что мы создали на прошлом шаге, давайте это проилюстрируем"
   ]
  },
  {
   "cell_type": "code",
   "execution_count": 103,
   "metadata": {
    "pycharm": {
     "name": "#%%\n"
    }
   },
   "outputs": [
    {
     "data": {
      "text/plain": [
       "tensor([[-0.8420],\n",
       "        [-0.6509],\n",
       "        [-0.6833],\n",
       "        [-0.6978],\n",
       "        [-0.6506],\n",
       "        [-0.6887],\n",
       "        [-0.8794],\n",
       "        [-0.7085],\n",
       "        [-0.8317],\n",
       "        [-0.7801]], grad_fn=<AddmmBackward>)"
      ]
     },
     "execution_count": 103,
     "metadata": {},
     "output_type": "execute_result"
    }
   ],
   "source": [
    "model = Model()\n",
    "y_pred = model(torch.rand(10, 5)) # получили предсказания модели на десяти объектах\n",
    "y_pred"
   ]
  },
  {
   "cell_type": "markdown",
   "metadata": {
    "pycharm": {
     "name": "#%% md\n"
    }
   },
   "source": [
    "Вы можете добавлять свои слои в нейронную сеть. В библиотеке PyTorch их очень много:\n",
    "\n",
    "https://pytorch.org/docs/stable/nn.html\n",
    "\n",
    "Описывать каждый слой было бы очень долгой и бесполезной задачей. Pytorch имеет прекрасную документацию к каждому слою и имеет исчерпывающие примеры. В опытом вы сможете создавать свои уникальные сложные нейронные сети."
   ]
  },
  {
   "cell_type": "markdown",
   "metadata": {
    "pycharm": {
     "name": "#%% md\n"
    }
   },
   "source": [
    "### Давайте что-то уже обучим!"
   ]
  },
  {
   "cell_type": "markdown",
   "metadata": {
    "pycharm": {
     "name": "#%% md\n"
    }
   },
   "source": [
    "Обучим нашу собсвтенную модель на классическом MNIST датасете. Загрузим его для начала."
   ]
  },
  {
   "cell_type": "code",
   "execution_count": 105,
   "metadata": {
    "pycharm": {
     "name": "#%%\n"
    }
   },
   "outputs": [
    {
     "name": "stdout",
     "output_type": "stream",
     "text": [
      "Downloading http://yann.lecun.com/exdb/mnist/train-images-idx3-ubyte.gz to ./mnist/MNIST/raw/train-images-idx3-ubyte.gz\n"
     ]
    },
    {
     "data": {
      "application/vnd.jupyter.widget-view+json": {
       "model_id": "0aba59025a2f4f1caa70134486d4e0a8",
       "version_major": 2,
       "version_minor": 0
      },
      "text/plain": [
       "HBox(children=(FloatProgress(value=1.0, bar_style='info', max=1.0), HTML(value='')))"
      ]
     },
     "metadata": {},
     "output_type": "display_data"
    },
    {
     "name": "stdout",
     "output_type": "stream",
     "text": [
      "Extracting ./mnist/MNIST/raw/train-images-idx3-ubyte.gz to ./mnist/MNIST/raw\n",
      "Downloading http://yann.lecun.com/exdb/mnist/train-labels-idx1-ubyte.gz to ./mnist/MNIST/raw/train-labels-idx1-ubyte.gz\n"
     ]
    },
    {
     "data": {
      "application/vnd.jupyter.widget-view+json": {
       "model_id": "36b3a41b4311499bb767dce0c6bf9cf1",
       "version_major": 2,
       "version_minor": 0
      },
      "text/plain": [
       "HBox(children=(FloatProgress(value=1.0, bar_style='info', max=1.0), HTML(value='')))"
      ]
     },
     "metadata": {},
     "output_type": "display_data"
    },
    {
     "name": "stdout",
     "output_type": "stream",
     "text": [
      "Extracting ./mnist/MNIST/raw/train-labels-idx1-ubyte.gz to ./mnist/MNIST/raw\n",
      "Downloading http://yann.lecun.com/exdb/mnist/t10k-images-idx3-ubyte.gz to ./mnist/MNIST/raw/t10k-images-idx3-ubyte.gz\n"
     ]
    },
    {
     "data": {
      "application/vnd.jupyter.widget-view+json": {
       "model_id": "d6013873f7fe4cba83ec13f93638f8f0",
       "version_major": 2,
       "version_minor": 0
      },
      "text/plain": [
       "HBox(children=(FloatProgress(value=1.0, bar_style='info', max=1.0), HTML(value='')))"
      ]
     },
     "metadata": {},
     "output_type": "display_data"
    },
    {
     "name": "stdout",
     "output_type": "stream",
     "text": [
      "Extracting ./mnist/MNIST/raw/t10k-images-idx3-ubyte.gz to ./mnist/MNIST/raw\n",
      "Downloading http://yann.lecun.com/exdb/mnist/t10k-labels-idx1-ubyte.gz to ./mnist/MNIST/raw/t10k-labels-idx1-ubyte.gz\n"
     ]
    },
    {
     "data": {
      "application/vnd.jupyter.widget-view+json": {
       "model_id": "5f28ee0ae5bd466fa320bb776643c170",
       "version_major": 2,
       "version_minor": 0
      },
      "text/plain": [
       "HBox(children=(FloatProgress(value=1.0, bar_style='info', max=1.0), HTML(value='')))"
      ]
     },
     "metadata": {},
     "output_type": "display_data"
    },
    {
     "name": "stdout",
     "output_type": "stream",
     "text": [
      "Extracting ./mnist/MNIST/raw/t10k-labels-idx1-ubyte.gz to ./mnist/MNIST/raw\n",
      "Processing...\n",
      "Done!\n"
     ]
    },
    {
     "name": "stderr",
     "output_type": "stream",
     "text": [
      "/Users/caesium/Programming/AnacondaFolder/anaconda3/envs/work/lib/python3.8/site-packages/torchvision/datasets/mnist.py:469: UserWarning: The given NumPy array is not writeable, and PyTorch does not support non-writeable tensors. This means you can write to the underlying (supposedly non-writeable) NumPy array using the tensor. You may want to copy the array to protect its data or make it writeable before converting it to a tensor. This type of warning will be suppressed for the rest of this program. (Triggered internally at  ../torch/csrc/utils/tensor_numpy.cpp:141.)\n",
      "  return torch.from_numpy(parsed.astype(m[2], copy=False)).view(*s)\n"
     ]
    }
   ],
   "source": [
    "import torchvision\n",
    "\n",
    "mnist_train = torchvision.datasets.MNIST(\n",
    "    './mnist/', train=True, download=True, \n",
    "    transform=torchvision.transforms.ToTensor()\n",
    ") # используем готовый класс от торча для загрузки данных для тренировки\n",
    "\n",
    "mnist_val = torchvision.datasets.MNIST(\n",
    "    './mnist/', train=False, download=True,\n",
    "    transform=torchvision.transforms.ToTensor()\n",
    ") # используем готовый класс от торча для загрузки данных для валидации\n",
    "\n",
    "train_dataloader = torch.utils.data.DataLoader(\n",
    "    mnist_train, batch_size=4, shuffle=True, num_workers=1\n",
    ") # так как это уже унаследованный от Dataset класс, его можно сразу пихать в даталоадер\n",
    "\n",
    "val_dataloader = torch.utils.data.DataLoader(\n",
    "    mnist_val, batch_size=4, shuffle=True, num_workers=1\n",
    ") # так как это уже унаследованный от Dataset класс, его можно сразу пихать в даталоадер"
   ]
  },
  {
   "cell_type": "markdown",
   "metadata": {
    "pycharm": {
     "name": "#%% md\n"
    }
   },
   "source": [
    "Выведем пару примеров из нашего датасета"
   ]
  },
  {
   "cell_type": "code",
   "execution_count": 132,
   "metadata": {
    "pycharm": {
     "name": "#%%\n"
    }
   },
   "outputs": [
    {
     "data": {
      "image/png": "[encoded data removed]",
      "text/plain": [
       "<Figure size 432x288 with 2 Axes>"
      ]
     },
     "metadata": {
      "needs_background": "light"
     },
     "output_type": "display_data"
    }
   ],
   "source": [
    "from matplotlib import pyplot as plt\n",
    "for i in [0, 1]:\n",
    "    plt.subplot(1, 2, i + 1)\n",
    "    plt.imshow(mnist_train[i][0].squeeze(0).numpy().reshape([28, 28]))\n",
    "    plt.title(str(mnist_train[i][1]))\n",
    "plt.show()"
   ]
  },
  {
   "cell_type": "markdown",
   "metadata": {
    "pycharm": {
     "name": "#%% md\n"
    }
   },
   "source": [
    "Теперь давайте создадим свою собсвтенную модель"
   ]
  },
  {
   "cell_type": "code",
   "execution_count": 133,
   "metadata": {
    "pycharm": {
     "name": "#%%\n"
    }
   },
   "outputs": [],
   "source": [
    "class MnistModel(nn.Module):\n",
    "    def __init__(self):\n",
    "        super(MnistModel, self).__init__() # данная строка кода вызывает конструктор родительского класса\n",
    "        self.flatten = nn.Flatten() # данный слой из матрицы 28х28 сделает нам один вектор из 784 чисел\n",
    "        self.lin1 = nn.Linear(784, 128)\n",
    "        self.lin2 = nn.Linear(128, 10)\n",
    "        self.relu = nn.ReLU()\n",
    "\n",
    "    def forward(self, x):\n",
    "        x = self.lin1(self.flatten(x))\n",
    "        x = self.relu(x)\n",
    "        x = self.lin2(x)\n",
    "        return x"
   ]
  },
  {
   "cell_type": "code",
   "execution_count": 134,
   "metadata": {
    "pycharm": {
     "name": "#%%\n"
    }
   },
   "outputs": [],
   "source": [
    "model = MnistModel()"
   ]
  },
  {
   "cell_type": "code",
   "execution_count": 135,
   "metadata": {
    "pycharm": {
     "name": "#%%\n"
    }
   },
   "outputs": [
    {
     "name": "stdout",
     "output_type": "stream",
     "text": [
      "У модели 101770 параметров\n"
     ]
    }
   ],
   "source": [
    "print('У модели '+str(sum(p.numel() for p in model.parameters()))+' параметров')"
   ]
  },
  {
   "cell_type": "markdown",
   "metadata": {
    "pycharm": {
     "name": "#%% md\n"
    }
   },
   "source": [
    "Такая небольшая модель у нас получилась. Давайте напишем цикл обучения."
   ]
  },
  {
   "cell_type": "code",
   "execution_count": 136,
   "metadata": {
    "pycharm": {
     "name": "#%%\n"
    }
   },
   "outputs": [],
   "source": [
    "# Чтобы обучать модель, нам нужна функция потерь. \n",
    "# Так как мы решаем задачу классификации, нам нужна перекрестная энтропия\n",
    "loss_func = nn.CrossEntropyLoss()\n",
    "\n",
    "# Чтобы делать шаги градиентного спуска, нам нужем оптимизатор\n",
    "# В pytorch есть много видом оптимищации, используем Adam\n",
    "optimizer = torch.optim.Adam(model.parameters(), lr = 0.001)"
   ]
  },
  {
   "cell_type": "code",
   "execution_count": 137,
   "metadata": {
    "pycharm": {
     "name": "#%%\n"
    }
   },
   "outputs": [
    {
     "name": "stdout",
     "output_type": "stream",
     "text": [
      "Epoch: 1, loss: 0.11600582301616669, accuracy: 0.9637\n",
      "Epoch: 2, loss: 0.08768309652805328, accuracy: 0.9746\n",
      "Epoch: 3, loss: 0.10317087173461914, accuracy: 0.9694\n"
     ]
    }
   ],
   "source": [
    "for epoch in range(1,4): # всего у нас будет 3 эпохи (3 раза подряд пройдемся по всем батчам из трейна)\n",
    "    for x_train, y_train in train_dataloader: # берем батч из трейн лоадера\n",
    "        y_pred = model(x_train) # делаем предсказания\n",
    "        loss = loss_func(y_pred, y_train) # считаем лосс\n",
    "        loss.backward() # считаем градиенты обратным проходом\n",
    "        optimizer.step() # обновляем параметры сети\n",
    "        optimizer.zero_grad() # обнуляем посчитанные градиенты параметров\n",
    "    \n",
    "    mean_val_loss = [] # сюда будем складывать средний лосс по батчам\n",
    "    val_accuracy = []\n",
    "    with torch.no_grad(): # мы считаем качество, поэтому мы запрещаем фреймворку считать градиенты по параметрам\n",
    "        for x_val, y_val in val_dataloader: # берем батч из вал лоадера\n",
    "            y_pred = model(x_val) # делаем предсказания\n",
    "            loss = nn.CrossEntropyLoss()(y_pred, y_val) # считаем лосс\n",
    "            mean_val_loss.append(loss.numpy()) # добавляем в массив \n",
    "            val_accuracy.extend((torch.argmax(y_pred, dim=-1) == y_val).numpy().tolist())\n",
    "    print('Epoch: {epoch}, loss: {loss}, accuracy: {accuracy}'.format(\n",
    "            epoch=epoch, loss=np.mean(mean_val_loss), accuracy=np.mean(val_accuracy)\n",
    "    )) # выводим статистику"
   ]
  },
  {
   "cell_type": "markdown",
   "metadata": {
    "pycharm": {
     "name": "#%% md\n"
    }
   },
   "source": [
    "Как мы можем видеть, уже после первой эпохи наша сеть дает 96% правильных овтетов на валидационной выборке, что не может не радовать! На третьей эпохе мы уже можем видеть эффект переобучения."
   ]
  },
  {
   "cell_type": "markdown",
   "metadata": {
    "pycharm": {
     "name": "#%% md\n"
    }
   },
   "source": [
    "Подведем кратое резюме того, как нужно обучать нейронные сети в pytorch.\n",
    "\n",
    "1) Создать датасет\n",
    "\n",
    "2) Создать модель\n",
    "\n",
    "3) Задать оптимизатор для модели\n",
    "\n",
    "4) Задать функцию потерь, на минимизацию которой будет обучаться наша модель\n",
    "\n",
    "5) При обучении сначала посчитать функцию потерь на батче\n",
    "\n",
    "6) Подсчитать градиенты\n",
    "\n",
    "7) Сделать шаг оптимизатора\n",
    "\n",
    "8) Обнулить подсчитанные градиенты параметров"
   ]
  },
  {
   "cell_type": "markdown",
   "metadata": {
    "pycharm": {
     "name": "#%% md\n"
    }
   },
   "source": [
    "## Резюме\n",
    "\n",
    "Теперь вы знакомы с библиотекой pytorch. Узнали про базовые операции над тензорами, узнали, как можно переводить массивы numpy в тензоры на pytorch, научились писать свои датасеты, модели. Научились обучать свои сети на pytorch. \n",
    "\n",
    "Вот хорошая книга по pytorch : https://pytorch.org/assets/deep-learning/Deep-Learning-with-PyTorch.pdf\n",
    "\n",
    "А вот набор туториалов, которые позволят вам глубже познакомиться с pytorch : https://pytorch.org/tutorials/"
   ]
  }
 ],
 "metadata": {
  "kernelspec": {
   "display_name": "Python 3",
   "language": "python",
   "name": "python3"
  },
  "language_info": {
   "codemirror_mode": {
    "name": "ipython",
    "version": 3
   },
   "file_extension": ".py",
   "mimetype": "text/x-python",
   "name": "python",
   "nbconvert_exporter": "python",
   "pygments_lexer": "ipython3",
   "version": "3.8.5"
  }
 },
 "nbformat": 4,
 "nbformat_minor": 4
}